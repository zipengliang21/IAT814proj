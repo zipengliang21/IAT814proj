{
 "cells": [
  {
   "cell_type": "code",
   "execution_count": 97,
   "metadata": {},
   "outputs": [
    {
     "name": "stdout",
     "output_type": "stream",
     "text": [
      "1095774\n"
     ]
    }
   ],
   "source": [
    "import pandas as pd\n",
    "\n",
    "df = pd.read_csv(\"./property-tax-report-2020-2024.csv\", sep=';')\n",
    "\n",
    "df['CURRENT_PRICE'] = df.apply(lambda x: x['CURRENT_LAND_VALUE']+x['CURRENT_IMPROVEMENT_VALUE'], axis = 1)\n",
    "\n",
    "df['PREVIOUS_PRICE'] = df.apply(lambda x: x['PREVIOUS_LAND_VALUE']+x['PREVIOUS_IMPROVEMENT_VALUE'], axis = 1)\n",
    "\n",
    "\n",
    "df = df[['PROPERTY_POSTAL_CODE', 'CURRENT_PRICE', 'PREVIOUS_PRICE', 'REPORT_YEAR', 'YEAR_BUILT']]\n",
    "\n",
    "print(len(df))\n",
    "\n",
    "df.to_csv('out.csv', index=False)"
   ]
  },
  {
   "cell_type": "code",
   "execution_count": 98,
   "metadata": {},
   "outputs": [],
   "source": [
    "df2 = pd.read_csv(\"./property-tax-report-2016-2019.csv\", sep=';')\n",
    "\n",
    "df2['CURRENT_PRICE'] = df2.apply(lambda x: x['CURRENT_LAND_VALUE']+x['CURRENT_IMPROVEMENT_VALUE'], axis = 1)\n",
    "\n",
    "df2['PREVIOUS_PRICE'] = df2.apply(lambda x: x['PREVIOUS_LAND_VALUE']+x['PREVIOUS_IMPROVEMENT_VALUE'], axis = 1)\n",
    "\n",
    "df2 = df2[['PROPERTY_POSTAL_CODE', 'CURRENT_PRICE', 'PREVIOUS_PRICE', 'REPORT_YEAR', 'YEAR_BUILT']]"
   ]
  },
  {
   "cell_type": "code",
   "execution_count": 99,
   "metadata": {},
   "outputs": [],
   "source": [
    "df3 = pd.read_csv(\"./property-tax-report-2011-2015.csv\", sep=';')\n",
    "\n",
    "df3['CURRENT_PRICE'] = df3.apply(lambda x: x['CURRENT_LAND_VALUE']+x['CURRENT_IMPROVEMENT_VALUE'], axis = 1)\n",
    "\n",
    "df3['PREVIOUS_PRICE'] = df3.apply(lambda x: x['PREVIOUS_LAND_VALUE']+x['PREVIOUS_IMPROVEMENT_VALUE'], axis = 1)\n",
    "\n",
    "df3 = df3[['PROPERTY_POSTAL_CODE', 'CURRENT_PRICE', 'PREVIOUS_PRICE', 'REPORT_YEAR', 'YEAR_BUILT']]"
   ]
  },
  {
   "cell_type": "code",
   "execution_count": 100,
   "metadata": {},
   "outputs": [
    {
     "name": "stdout",
     "output_type": "stream",
     "text": [
      "number of lines: 1366547\n"
     ]
    }
   ],
   "source": [
    "rldf = pd.read_csv('pccf_record_layout.csv')\n",
    "# load the raw text pccf file\n",
    "with open('PCCF_FCCP_V2403_2021.txt','r', encoding='latin-1') as fh:\n",
    "    pctxt = fh.read()\n",
    "pclines = pctxt.split('\\n')\n",
    "pclines = list(filter(lambda l: len(l), pclines)) # keep only non-empty lines\n",
    "print(\"number of lines:\", len(pclines))"
   ]
  },
  {
   "cell_type": "code",
   "execution_count": 101,
   "metadata": {},
   "outputs": [
    {
     "name": "stdout",
     "output_type": "stream",
     "text": [
      "number of lines: 1731083\n"
     ]
    }
   ],
   "source": [
    "# load the raw text pccf file\n",
    "with open('pccfNat_fccpNat_052020_1.txt','r', encoding='latin-1') as fh2:\n",
    "    pctxt2 = fh2.read()\n",
    "pclines2 = pctxt2.split('\\n')\n",
    "pclines2 = list(filter(lambda l: len(l), pclines2)) # keep only non-empty lines\n",
    "print(\"number of lines:\", len(pclines2))"
   ]
  },
  {
   "cell_type": "code",
   "execution_count": 102,
   "metadata": {},
   "outputs": [
    {
     "name": "stdout",
     "output_type": "stream",
     "text": [
      "0 Postal code\n",
      "1 FSA\n",
      "2 PR\n",
      "3 CDuid\n",
      "4 CSDuid\n",
      "5 CSDname\n",
      "6 CSDtype\n",
      "7 CCScode\n",
      "8 SAC\n",
      "9 SACtype\n",
      "10 CTname\n",
      "11 ER\n",
      "12 DPL\n",
      "13 FED13uid\n",
      "14 POP_CNTR_RA\n",
      "15 POP_CNTR_RA_type\n",
      "16 DAuid\n",
      "17 Dissemination block\n",
      "18 Rep_Pt_Type\n",
      "19 LAT\n",
      "20 LONG\n",
      "21 SLI\n",
      "22 PCtype\n",
      "23 Comm_Name\n",
      "24 DMT\n",
      "25 H_DMT\n",
      "26 Birth_Date\n",
      "27 Ret_Date\n",
      "28 PO\n",
      "29 QI\n",
      "30 Source\n",
      "31 POP_CNTR_RA_SIZE_CLASS\n"
     ]
    }
   ],
   "source": [
    "def gen_pccf():\n",
    "    for idx, r in rldf.iterrows():\n",
    "        print(idx, r['Field name'])\n",
    "        \n",
    "        s = pd.Series(pclines, dtype = \"string\")\n",
    "        yield r['Field name'], s.str[r['Position'] - 1 : r['Position'] + r['Size'] - 1]\n",
    "\n",
    "pccf_df = pd.DataFrame(dict(gen_pccf()))"
   ]
  },
  {
   "cell_type": "code",
   "execution_count": 103,
   "metadata": {},
   "outputs": [
    {
     "name": "stdout",
     "output_type": "stream",
     "text": [
      "0 Postal code\n",
      "1 FSA\n",
      "2 PR\n",
      "3 CDuid\n",
      "4 CSDuid\n",
      "5 CSDname\n",
      "6 CSDtype\n",
      "7 CCScode\n",
      "8 SAC\n",
      "9 SACtype\n",
      "10 CTname\n",
      "11 ER\n",
      "12 DPL\n",
      "13 FED13uid\n",
      "14 POP_CNTR_RA\n",
      "15 POP_CNTR_RA_type\n",
      "16 DAuid\n",
      "17 Dissemination block\n",
      "18 Rep_Pt_Type\n",
      "19 LAT\n",
      "20 LONG\n",
      "21 SLI\n",
      "22 PCtype\n",
      "23 Comm_Name\n",
      "24 DMT\n",
      "25 H_DMT\n",
      "26 Birth_Date\n",
      "27 Ret_Date\n",
      "28 PO\n",
      "29 QI\n",
      "30 Source\n",
      "31 POP_CNTR_RA_SIZE_CLASS\n"
     ]
    }
   ],
   "source": [
    "def gen_pccf():\n",
    "    for idx, r in rldf.iterrows():\n",
    "        print(idx, r['Field name'])\n",
    "        \n",
    "        s = pd.Series(pclines2, dtype = \"string\")\n",
    "        yield r['Field name'], s.str[r['Position'] - 1 : r['Position'] + r['Size'] - 1]\n",
    "\n",
    "pccf_df2 = pd.DataFrame(dict(gen_pccf()))"
   ]
  },
  {
   "cell_type": "code",
   "execution_count": 105,
   "metadata": {},
   "outputs": [],
   "source": [
    "pccf_df['LAT'] = pccf_df['LAT'].astype(float)\n",
    "pccf_df['LONG'] = pccf_df['LONG'].astype(float)\n",
    "pccf_short = pccf_df[['Postal code', 'LONG', 'LAT']]\n",
    "pccf_short = pccf_short.groupby('Postal code').agg({'LONG':'mean','LAT':'mean'})"
   ]
  },
  {
   "cell_type": "code",
   "execution_count": 106,
   "metadata": {},
   "outputs": [],
   "source": [
    "pccf_df2['LAT'] = pccf_df2['LAT'].astype(float)\n",
    "pccf_df2['LONG'] = pccf_df2['LONG'].astype(float)\n",
    "pccf_short2 = pccf_df2[['Postal code', 'LONG', 'LAT', 'CSDname']]\n",
    "pccf_short2 = pccf_short2.groupby('Postal code').agg({'LONG':'mean','LAT':'mean'})"
   ]
  },
  {
   "cell_type": "code",
   "execution_count": 107,
   "metadata": {},
   "outputs": [
    {
     "name": "stdout",
     "output_type": "stream",
     "text": [
      "872218\n",
      "888280\n"
     ]
    }
   ],
   "source": [
    "print(len(pccf_short2))\n",
    "print(len(pccf_short))"
   ]
  },
  {
   "cell_type": "code",
   "execution_count": 108,
   "metadata": {},
   "outputs": [],
   "source": [
    "df['Postal code'] = df['PROPERTY_POSTAL_CODE'].str.replace(' ','')\n",
    "df.drop(columns=['PROPERTY_POSTAL_CODE'])\n",
    "dfgeo = df.merge(pccf_short, on='Postal code')"
   ]
  },
  {
   "cell_type": "code",
   "execution_count": 109,
   "metadata": {},
   "outputs": [
    {
     "name": "stdout",
     "output_type": "stream",
     "text": [
      "  PROPERTY_POSTAL_CODE  CURRENT_PRICE  PREVIOUS_PRICE  REPORT_YEAR  \\\n",
      "0              V6N 1J5      4025000.0       4140000.0         2018   \n",
      "1              V6G 1M1       660000.0        614000.0         2018   \n",
      "2              V5N 1P2       597000.0        522000.0         2018   \n",
      "3              V5L 1W8      1163000.0       1172000.0         2018   \n",
      "4              V5M 1X1      1836000.0       1722000.0         2018   \n",
      "5              V6R 1Z2      1415000.0       1340000.0         2018   \n",
      "6              V5W 3G6      1480300.0       1512600.0         2018   \n",
      "7              V6M 3P2      5547000.0       5496000.0         2018   \n",
      "8              V6E 1Z8      8591300.0       6574000.0         2018   \n",
      "9              V6P 1C6      3711200.0       3702200.0         2018   \n",
      "\n",
      "   YEAR_BUILT Postal code  \n",
      "0      2009.0      V6N1J5  \n",
      "1      1985.0      V6G1M1  \n",
      "2      1991.0      V5N1P2  \n",
      "3      1911.0      V5L1W8  \n",
      "4      1948.0      V5M1X1  \n",
      "5      1989.0      V6R1Z2  \n",
      "6      1959.0      V5W3G6  \n",
      "7      1995.0      V6M3P2  \n",
      "8      1988.0      V6E1Z8  \n",
      "9      1946.0      V6P1C6  \n"
     ]
    }
   ],
   "source": [
    "df2['Postal code'] = df2['PROPERTY_POSTAL_CODE'].str.replace(' ','')\n",
    "df2.drop('PROPERTY_POSTAL_CODE', axis = 1)\n",
    "print(df2.head(10))\n",
    "dfgeo2 = df2.merge(pccf_short2, on='Postal code')"
   ]
  },
  {
   "cell_type": "code",
   "execution_count": 110,
   "metadata": {},
   "outputs": [
    {
     "name": "stdout",
     "output_type": "stream",
     "text": [
      "1075232\n",
      "814952\n"
     ]
    }
   ],
   "source": [
    "print(len(dfgeo))\n",
    "print(len(dfgeo2))"
   ]
  },
  {
   "cell_type": "code",
   "execution_count": 111,
   "metadata": {},
   "outputs": [
    {
     "name": "stdout",
     "output_type": "stream",
     "text": [
      "  PROPERTY_POSTAL_CODE  CURRENT_PRICE  PREVIOUS_PRICE  REPORT_YEAR  \\\n",
      "0              V6P 1Y9      1743000.0             NaN         2013   \n",
      "1              V6P 2K4      1156000.0             NaN         2013   \n",
      "2              V6P 2K4      1090600.0             NaN         2013   \n",
      "3              V6P 2B6      1353400.0             NaN         2013   \n",
      "4              V6P 2B5      2265000.0             NaN         2013   \n",
      "5              V6P 2B6      1333400.0             NaN         2013   \n",
      "6              V6P 2B5      1758000.0             NaN         2013   \n",
      "7              V6P 2B5      1778000.0             NaN         2013   \n",
      "8              V6P 2B4      1379400.0             NaN         2013   \n",
      "9              V6P 2B3      1385700.0             NaN         2013   \n",
      "\n",
      "   YEAR_BUILT Postal code  \n",
      "0      2003.0      V6P1Y9  \n",
      "1      1986.0      V6P2K4  \n",
      "2      1975.0      V6P2K4  \n",
      "3      1950.0      V6P2B6  \n",
      "4      2008.0      V6P2B5  \n",
      "5      1951.0      V6P2B6  \n",
      "6      1997.0      V6P2B5  \n",
      "7      1996.0      V6P2B5  \n",
      "8      1957.0      V6P2B4  \n",
      "9      1957.0      V6P2B3  \n"
     ]
    }
   ],
   "source": [
    "df3['Postal code'] = df3['PROPERTY_POSTAL_CODE'].str.replace(' ','')\n",
    "df3.drop('PROPERTY_POSTAL_CODE', axis = 1)\n",
    "print(df3.head(10))\n",
    "dfgeo3 = df3.merge(pccf_short, on='Postal code')"
   ]
  },
  {
   "cell_type": "code",
   "execution_count": 112,
   "metadata": {},
   "outputs": [
    {
     "name": "stdout",
     "output_type": "stream",
     "text": [
      "  PROPERTY_POSTAL_CODE  CURRENT_PRICE  PREVIOUS_PRICE  REPORT_YEAR  \\\n",
      "0              V6B 1L7       856000.0        829000.0         2023   \n",
      "1              V6B 1L7       627000.0        607000.0         2023   \n",
      "2              V6B 1L7       597000.0        567000.0         2022   \n",
      "3              V6B 1L7       629000.0        631000.0         2022   \n",
      "4              V6B 1L7       575000.0        563000.0         2022   \n",
      "5              V6B 1L7       574000.0        588000.0         2022   \n",
      "6              V6B 1L7       878000.0        853000.0         2023   \n",
      "7              V6B 1L7       571000.0        559000.0         2022   \n",
      "8              V6B 1L7       897000.0        862000.0         2024   \n",
      "9              V6B 1L7       634000.0        617000.0         2024   \n",
      "\n",
      "   YEAR_BUILT Postal code        LONG        LAT  \n",
      "0      2005.0      V6B1L7 -123.119508  49.280122  \n",
      "1      2005.0      V6B1L7 -123.119508  49.280122  \n",
      "2      2005.0      V6B1L7 -123.119508  49.280122  \n",
      "3      2005.0      V6B1L7 -123.119508  49.280122  \n",
      "4      2005.0      V6B1L7 -123.119508  49.280122  \n",
      "5      2005.0      V6B1L7 -123.119508  49.280122  \n",
      "6      2005.0      V6B1L7 -123.119508  49.280122  \n",
      "7      2005.0      V6B1L7 -123.119508  49.280122  \n",
      "8      2005.0      V6B1L7 -123.119508  49.280122  \n",
      "9      2005.0      V6B1L7 -123.119508  49.280122  \n",
      "  PROPERTY_POSTAL_CODE  CURRENT_PRICE  PREVIOUS_PRICE  REPORT_YEAR  \\\n",
      "0              V6N 1J5      4025000.0       4140000.0         2018   \n",
      "1              V6N 1J5      3265000.0       3596900.0         2019   \n",
      "2              V6N 1J5      2743500.0       2233000.0         2016   \n",
      "3              V6N 1J5      4140000.0       3189000.0         2017   \n",
      "4              V6N 1J5      3485000.0       2781000.0         2017   \n",
      "5              V6N 1J5      3596900.0       3777200.0         2018   \n",
      "6              V6N 1J5      3710000.0       4025000.0         2019   \n",
      "7              V6N 1J5      3261000.0       3485000.0         2018   \n",
      "8              V6N 1J5      3189000.0       2823000.0         2016   \n",
      "9              V6N 1J5      2910000.0       3261000.0         2019   \n",
      "\n",
      "   YEAR_BUILT Postal code        LONG        LAT  \n",
      "0      2009.0      V6N1J5 -123.173201  49.233271  \n",
      "1      2018.0      V6N1J5 -123.173201  49.233271  \n",
      "2      1962.0      V6N1J5 -123.173201  49.233271  \n",
      "3      2009.0      V6N1J5 -123.173201  49.233271  \n",
      "4      1920.0      V6N1J5 -123.173201  49.233271  \n",
      "5      1962.0      V6N1J5 -123.173201  49.233271  \n",
      "6      2009.0      V6N1J5 -123.173201  49.233271  \n",
      "7      1920.0      V6N1J5 -123.173201  49.233271  \n",
      "8      2009.0      V6N1J5 -123.173201  49.233271  \n",
      "9      1920.0      V6N1J5 -123.173201  49.233271  \n",
      "  PROPERTY_POSTAL_CODE  CURRENT_PRICE  PREVIOUS_PRICE  REPORT_YEAR  \\\n",
      "0              V6P 1Y9      1743000.0             NaN         2013   \n",
      "1              V6P 1Y9      1827000.0       1696000.0         2015   \n",
      "2              V6P 1Y9      1541000.0       1579000.0         2014   \n",
      "3              V6P 1Y9      1548000.0             NaN         2011   \n",
      "4              V6P 1Y9      1607000.0             NaN         2012   \n",
      "5              V6P 1Y9      1579000.0             NaN         2013   \n",
      "6              V6P 1Y9      1770000.0             NaN         2012   \n",
      "7              V6P 1Y9      1641000.0       1541000.0         2015   \n",
      "8              V6P 1Y9      1696000.0       1743000.0         2014   \n",
      "9              V6P 1Y9      1392000.0             NaN         2011   \n",
      "\n",
      "   YEAR_BUILT Postal code        LONG        LAT  \n",
      "0      2003.0      V6P1Y9 -123.138789  49.217287  \n",
      "1      2003.0      V6P1Y9 -123.138789  49.217287  \n",
      "2      1989.0      V6P1Y9 -123.138789  49.217287  \n",
      "3      2003.0      V6P1Y9 -123.138789  49.217287  \n",
      "4      1989.0      V6P1Y9 -123.138789  49.217287  \n",
      "5      1989.0      V6P1Y9 -123.138789  49.217287  \n",
      "6      2003.0      V6P1Y9 -123.138789  49.217287  \n",
      "7      1989.0      V6P1Y9 -123.138789  49.217287  \n",
      "8      2003.0      V6P1Y9 -123.138789  49.217287  \n",
      "9      1989.0      V6P1Y9 -123.138789  49.217287  \n"
     ]
    }
   ],
   "source": [
    "# print(len(dfgeo))\n",
    "print(dfgeo.head(10))\n",
    "print(dfgeo2.head(10))\n",
    "print(dfgeo3.head(10))\n",
    "# dfgeo.to_csv('out1.csv', index=False)"
   ]
  },
  {
   "cell_type": "code",
   "execution_count": 113,
   "metadata": {},
   "outputs": [
    {
     "name": "stdout",
     "output_type": "stream",
     "text": [
      "218371\n",
      "218429\n",
      "216488\n",
      "213041\n",
      "208903\n"
     ]
    }
   ],
   "source": [
    "dfgeo_2024 = dfgeo[(dfgeo['REPORT_YEAR']) == 2024]\n",
    "dfgeo_2023 = dfgeo[(dfgeo['REPORT_YEAR']) == 2023]\n",
    "dfgeo_2022 = dfgeo[(dfgeo['REPORT_YEAR']) == 2022]\n",
    "dfgeo_2021 = dfgeo[(dfgeo['REPORT_YEAR']) == 2021]\n",
    "dfgeo_2020 = dfgeo[(dfgeo['REPORT_YEAR']) == 2020]\n",
    "print(len(dfgeo_2024))\n",
    "print(len(dfgeo_2023))\n",
    "print(len(dfgeo_2022))\n",
    "print(len(dfgeo_2021))\n",
    "print(len(dfgeo_2020))\n",
    "\n",
    "dfgeo_2024.to_csv('bc_housing_2024.csv', index=False)\n",
    "dfgeo_2023.to_csv('bc_housing_2023.csv', index=False)\n",
    "dfgeo_2022.to_csv('bc_housing_2022.csv', index=False)\n",
    "dfgeo_2021.to_csv('bc_housing_2021.csv', index=False)\n",
    "dfgeo_2020.to_csv('bc_housing_2020.csv', index=False)"
   ]
  },
  {
   "cell_type": "code",
   "execution_count": 114,
   "metadata": {},
   "outputs": [
    {
     "name": "stderr",
     "output_type": "stream",
     "text": [
      "/var/folders/x6/z9351kk561d4v17pxbj3_rph0000gn/T/ipykernel_29873/3895050187.py:12: SettingWithCopyWarning: \n",
      "A value is trying to be set on a copy of a slice from a DataFrame.\n",
      "Try using .loc[row_indexer,col_indexer] = value instead\n",
      "\n",
      "See the caveats in the documentation: https://pandas.pydata.org/pandas-docs/stable/user_guide/indexing.html#returning-a-view-versus-a-copy\n",
      "  dfgeo_2024['price_type'] = dfgeo_2024['CURRENT_PRICE'].apply(categorize_price)\n"
     ]
    }
   ],
   "source": [
    "def categorize_price(price):\n",
    "    if price < 1000000:\n",
    "        return '< 1M'\n",
    "    elif 1000000 <= price < 2000000:\n",
    "        return '1 - 2M'\n",
    "    elif 2000000 <= price < 5000000:\n",
    "        return '2 - 5M'\n",
    "    else:\n",
    "        return '> 5M'\n",
    "\n",
    "# Apply the function to create the new 'price_type' column\n",
    "dfgeo_2024['price_type'] = dfgeo_2024['CURRENT_PRICE'].apply(categorize_price)\n",
    "dfgeo_2024.to_csv('bc_housing_2024_category_3.csv', index=False)"
   ]
  },
  {
   "cell_type": "code",
   "execution_count": 131,
   "metadata": {},
   "outputs": [
    {
     "name": "stdout",
     "output_type": "stream",
     "text": [
      "< 1M      85647\n",
      "1 - 2M    64391\n",
      "2 - 5M    55985\n",
      "> 5M      12348\n",
      "Name: price_type, dtype: int64\n"
     ]
    }
   ],
   "source": [
    "value_counts = dfgeo_2024['price_type'].value_counts()\n",
    "\n",
    "print(value_counts)"
   ]
  },
  {
   "cell_type": "code",
   "execution_count": 115,
   "metadata": {},
   "outputs": [],
   "source": [
    "# dfgeo_2024_geoJson = dfgeo_2024[[\"CURRENT_PRICE\", \"LONG\", \"LAT\"]]\n",
    "# dfgeo_2024_geoJson_5000 = dfgeo_2024_geoJson.iloc[:5000]\n",
    "# dfgeo_2024_geoJson_5000.to_csv('bc_housing_2024_geoJson_5000.csv', index=False)"
   ]
  },
  {
   "cell_type": "code",
   "execution_count": 116,
   "metadata": {},
   "outputs": [],
   "source": [
    "# dfgeo_2024 = dfgeo_2024[[\"CURRENT_PRICE\", \"LONG\", \"LAT\"]]\n",
    "# split_index = len(dfgeo_2024) // 2\n",
    "\n",
    "# # Split the DataFrame\n",
    "# dfgeo_2024_part1 = dfgeo_2024.iloc[:split_index]\n",
    "# dfgeo_2024_part2 = dfgeo_2024.iloc[split_index:]\n",
    "\n",
    "# # Save each part to a separate CSV file\n",
    "# dfgeo_2024_part1.to_csv('bc_housing_2024_part1.csv', index=False)\n",
    "# dfgeo_2024_part2.to_csv('bc_housing_2024_part2.csv', index=False)"
   ]
  },
  {
   "cell_type": "code",
   "execution_count": 117,
   "metadata": {},
   "outputs": [
    {
     "name": "stdout",
     "output_type": "stream",
     "text": [
      "814952\n",
      "209166\n",
      "204450\n",
      "202463\n",
      "198873\n"
     ]
    }
   ],
   "source": [
    "dfgeo_2019 = dfgeo2[(dfgeo2['REPORT_YEAR']) == 2019]\n",
    "dfgeo_2018 = dfgeo2[(dfgeo2['REPORT_YEAR']) == 2018]\n",
    "dfgeo_2017 = dfgeo2[(dfgeo2['REPORT_YEAR']) == 2017]\n",
    "dfgeo_2016 = dfgeo2[(dfgeo2['REPORT_YEAR']) == 2016]\n",
    "print(len(dfgeo2))\n",
    "print(len(dfgeo_2019))\n",
    "print(len(dfgeo_2018))\n",
    "print(len(dfgeo_2017))\n",
    "print(len(dfgeo_2016))\n",
    "\n",
    "# dfgeo_2019.to_csv('bc_housing_2019.csv', index=False)\n",
    "# dfgeo_2018.to_csv('bc_housing_2018.csv', index=False)\n",
    "# dfgeo_2017.to_csv('bc_housing_2017.csv', index=False)\n",
    "# dfgeo_2016.to_csv('bc_housing_2016.csv', index=False)"
   ]
  },
  {
   "cell_type": "code",
   "execution_count": 118,
   "metadata": {},
   "outputs": [
    {
     "name": "stdout",
     "output_type": "stream",
     "text": [
      "200782\n"
     ]
    }
   ],
   "source": [
    "dfgeo_2015 = dfgeo3[(dfgeo3['REPORT_YEAR']) == 2015]\n",
    "print(len(dfgeo_2015))\n",
    "\n",
    "# dfgeo_2015.to_csv('bc_housing_2015.csv', index=False)"
   ]
  },
  {
   "cell_type": "code",
   "execution_count": 119,
   "metadata": {},
   "outputs": [
    {
     "name": "stdout",
     "output_type": "stream",
     "text": [
      "2090966\n"
     ]
    }
   ],
   "source": [
    "# Assuming dfgeo_2019, dfgeo_2018, dfgeo_2017, dfgeo_2016, dfgeo_2015 are already defined as per your snippet\n",
    "\n",
    "# Concatenate the DataFrames\n",
    "df_concatenated = pd.concat([dfgeo_2024, dfgeo_2023, dfgeo_2022, dfgeo_2021, dfgeo_2020, dfgeo_2019, dfgeo_2018, dfgeo_2017, dfgeo_2016, dfgeo_2015])\n",
    "\n",
    "# Reset the index of the concatenated DataFrame, if needed\n",
    "df_concatenated.reset_index(drop=True, inplace=True)\n",
    "\n",
    "# Display the concatenated DataFrame to verify\n",
    "print(len(df_concatenated))  # To display the first few rows\n",
    "df_concatenated.to_csv('bc_housing_2015_2024.csv', index=False)"
   ]
  },
  {
   "cell_type": "code",
   "execution_count": 120,
   "metadata": {},
   "outputs": [
    {
     "name": "stdout",
     "output_type": "stream",
     "text": [
      "The data has been saved to property_count_by_year.csv\n"
     ]
    }
   ],
   "source": [
    "import pandas as pd\n",
    "\n",
    "# Provided data\n",
    "property_count = [203494, 203658, 206480, 209649, 213182, 214803, 217802, 218674, 222197]\n",
    "year = [2015, 2016, 2017, 2018, 2019, 2020, 2021, 2022, 2023]\n",
    "\n",
    "# Convert to DataFrame\n",
    "df = pd.DataFrame({\n",
    "    'Year': year,\n",
    "    'Property Count': property_count\n",
    "})\n",
    "\n",
    "# Save to CSV, adjust the file path as needed\n",
    "csv_file_path = 'property_count_by_year.csv'\n",
    "df.to_csv(csv_file_path, index=False)\n",
    "\n",
    "print(f\"The data has been saved to {csv_file_path}\")\n"
   ]
  },
  {
   "cell_type": "code",
   "execution_count": 121,
   "metadata": {},
   "outputs": [
    {
     "name": "stdout",
     "output_type": "stream",
     "text": [
      "   Year  Property Count  Increased Percentage\n",
      "0  2015          203494                  0.00\n",
      "1  2016          203658                  0.08\n",
      "2  2017          206480                  1.39\n",
      "3  2018          209649                  1.53\n",
      "4  2019          213182                  1.69\n",
      "5  2020          214803                  0.76\n",
      "6  2021          217802                  1.40\n",
      "7  2022          218674                  0.40\n",
      "8  2023          222197                  1.61\n",
      "9  2024          222298                  0.05\n",
      "The data has been saved to property_count_by_year_with_increase.csv\n"
     ]
    }
   ],
   "source": [
    "import pandas as pd\n",
    "\n",
    "# Initial data\n",
    "property_count = [203494, 203658, 206480, 209649, 213182,  214803, 217802, 218674, 222197, 222298]\n",
    "year = [2015, 2016, 2017, 2018, 2019, 2020, 2021, 2022, 2023, 2024]\n",
    "\n",
    "# Convert to DataFrame\n",
    "df = pd.DataFrame({\n",
    "    'Year': year,\n",
    "    'Property Count': property_count\n",
    "})\n",
    "\n",
    "# Calculate the percentage increase from the previous year\n",
    "df['Increased Percentage'] = df['Property Count'].pct_change() * 100\n",
    "df['Increased Percentage'] = df['Increased Percentage'].fillna(0) # Fill the NaN value for the first year with 0\n",
    "\n",
    "# Optionally, to round the values for better readability\n",
    "df['Increased Percentage'] = df['Increased Percentage'].round(2)\n",
    "\n",
    "# Display the DataFrame to verify\n",
    "print(df)\n",
    "\n",
    "# Convert the DataFrame with the new column to a CSV file\n",
    "csv_file_path = 'property_count_by_year_with_increase.csv'\n",
    "df.to_csv(csv_file_path, index=False)\n",
    "\n",
    "print(f\"The data has been saved to {csv_file_path}\")\n"
   ]
  },
  {
   "cell_type": "code",
   "execution_count": 122,
   "metadata": {},
   "outputs": [
    {
     "name": "stdout",
     "output_type": "stream",
     "text": [
      "Vancouver\n"
     ]
    }
   ],
   "source": [
    "from geopy.geocoders import Nominatim\n",
    "\n",
    "def get_city(latitude, longitude):\n",
    "    geolocator = Nominatim(user_agent=\"my_unique_application_name\")\n",
    "    location = geolocator.reverse((latitude, longitude), exactly_one=True)\n",
    "    address = location.raw['address']\n",
    "    city = address.get('city', '')\n",
    "    if not city:\n",
    "        city = address.get('town', '')\n",
    "    if not city:\n",
    "        city = address.get('village', '')\n",
    "    return city\n",
    "\n",
    "# Example usage with coordinates for a place in Vancouver, BC\n",
    "latitude = 49.259827\n",
    "longitude = -123.144717\n",
    "city = get_city(latitude, longitude)\n",
    "print(city)\n"
   ]
  },
  {
   "cell_type": "code",
   "execution_count": 124,
   "metadata": {},
   "outputs": [],
   "source": [
    "# immigration_country_df = pd.read_csv('./immigration_country.csv')\n",
    "# print(immigration_country_df.columns)\n",
    "\n",
    "# columns_to_clean = ['year_2015', \"year_2016\", \"year_2017\", \"year_2018\", \"year_2019\", \"year_2020\", \"year_2021\", \"year_2022\", \"year_2023\"]\n",
    "\n",
    "# for column in columns_to_clean:\n",
    "    \n",
    "#     immigration_country_df[column] = immigration_country_df[column].str.replace(',', '').fillna(0).astype(int)\n",
    "\n",
    "# cleaned_file_path = 'immigration_country.csv'\n",
    "# immigration_country_df.to_csv(cleaned_file_path, index=False)"
   ]
  },
  {
   "cell_type": "code",
   "execution_count": 125,
   "metadata": {},
   "outputs": [
    {
     "name": "stdout",
     "output_type": "stream",
     "text": [
      "215\n",
      "Index(['country_of_citizenship', 'year_2015', 'year_2016', 'year_2017',\n",
      "       'year_2018', 'year_2019', 'year_2020', 'year_2021', 'year_2022',\n",
      "       'year_2023'],\n",
      "      dtype='object')\n",
      "  country_of_citizenship  year_2015  year_2016  year_2017  year_2018  \\\n",
      "0            Afghanistan       2630       2650       3455       3560   \n",
      "\n",
      "   year_2019  year_2020  year_2021  year_2022  year_2023  \n",
      "0       3900       1660       8570      23750      20180  \n"
     ]
    }
   ],
   "source": [
    "print(len(immigration_country_df))\n",
    "print(immigration_country_df.columns)\n",
    "print(immigration_country_df.head(1))"
   ]
  },
  {
   "cell_type": "code",
   "execution_count": 126,
   "metadata": {},
   "outputs": [],
   "source": [
    "immigration_bc_df = pd.read_csv('./immigration_bc.csv',  sep=',')"
   ]
  },
  {
   "cell_type": "code",
   "execution_count": 127,
   "metadata": {},
   "outputs": [
    {
     "name": "stdout",
     "output_type": "stream",
     "text": [
      "9\n",
      "Index(['year', 'immigration_count'], dtype='object')\n",
      "   year  immigration_count\n",
      "0  2015              35720\n"
     ]
    }
   ],
   "source": [
    "print(len(immigration_bc_df))\n",
    "print(immigration_bc_df.columns)\n",
    "print(immigration_bc_df.head(1))"
   ]
  },
  {
   "cell_type": "code",
   "execution_count": 128,
   "metadata": {},
   "outputs": [
    {
     "name": "stdout",
     "output_type": "stream",
     "text": [
      "Vancouver\n"
     ]
    }
   ],
   "source": [
    "from geopy.geocoders import Nominatim\n",
    "\n",
    "def get_city(latitude, longitude):\n",
    "    geolocator = Nominatim(user_agent=\"my_unique_application_name\")\n",
    "    location = geolocator.reverse((latitude, longitude), exactly_one=True)\n",
    "    address = location.raw['address']\n",
    "    city = address.get('city', '')\n",
    "    if not city:\n",
    "        city = address.get('town', '')\n",
    "    if not city:\n",
    "        city = address.get('village', '')\n",
    "    return city\n",
    "\n",
    "# Example usage with coordinates for a place in Vancouver, BC\n",
    "latitude = 49.259827\n",
    "longitude = -123.144717\n",
    "city = get_city(latitude, longitude)\n",
    "print(city)\n"
   ]
  },
  {
   "cell_type": "code",
   "execution_count": 129,
   "metadata": {},
   "outputs": [
    {
     "name": "stdout",
     "output_type": "stream",
     "text": [
      "   Year  Property Count  Increased Percentage\n",
      "0  2015          203494                  0.00\n",
      "1  2016          203658                  0.08\n",
      "2  2017          206480                  1.39\n",
      "3  2018          209649                  1.53\n",
      "4  2019          213182                  1.69\n",
      "5  2020          214803                  0.76\n",
      "6  2021          217802                  1.40\n",
      "7  2022          218674                  0.40\n",
      "8  2023          222197                  1.61\n",
      "The data has been saved to immigration_bc.csv\n"
     ]
    }
   ],
   "source": [
    "import pandas as pd\n",
    "\n",
    "# Initial data\n",
    "property_count = [203494, 203658, 206480, 209649, 213182,  214803, 217802, 218674, 222197]\n",
    "year = [2015, 2016, 2017, 2018, 2019, 2020, 2021, 2022, 2023]\n",
    "\n",
    "# Convert to DataFrame\n",
    "df = pd.DataFrame({\n",
    "    'Year': year,\n",
    "    'Property Count': property_count\n",
    "})\n",
    "\n",
    "# Calculate the percentage increase from the previous year\n",
    "df['Increased Percentage'] = df['Property Count'].pct_change() * 100\n",
    "df['Increased Percentage'] = df['Increased Percentage'].fillna(0) # Fill the NaN value for the first year with 0\n",
    "\n",
    "# Optionally, to round the values for better readability\n",
    "df['Increased Percentage'] = df['Increased Percentage'].round(2)\n",
    "\n",
    "# Display the DataFrame to verify\n",
    "print(df)\n",
    "\n",
    "# Convert the DataFrame with the new column to a CSV file\n",
    "csv_file_path = 'immigration_bc.csv'\n",
    "df.to_csv(csv_file_path, index=False)\n",
    "\n",
    "print(f\"The data has been saved to {csv_file_path}\")\n"
   ]
  },
  {
   "cell_type": "code",
   "execution_count": 130,
   "metadata": {},
   "outputs": [
    {
     "name": "stdout",
     "output_type": "stream",
     "text": [
      "   Year  total_immigration_number\n",
      "0  2015                    271840\n",
      "1  2016                    296375\n",
      "2  2017                    286535\n",
      "3  2018                    321055\n",
      "4  2019                    341175\n",
      "5  2020                    184596\n",
      "6  2021                    406050\n",
      "7  2022                    437625\n",
      "8  2023                    471170\n",
      "The data has been saved to immigration_total_count.csv\n"
     ]
    }
   ],
   "source": [
    "import pandas as pd\n",
    "\n",
    "# Initial data\n",
    "total_immigration_number = [271840, 296375, 286535, 321055, 341175,  184596, 406050, 437625, 471170]\n",
    "year = [2015, 2016, 2017, 2018, 2019, 2020, 2021, 2022, 2023]\n",
    "\n",
    "# Convert to DataFrame\n",
    "df = pd.DataFrame({\n",
    "    'Year': year,\n",
    "    'total_immigration_number': total_immigration_number\n",
    "})\n",
    "\n",
    "# Display the DataFrame to verify\n",
    "print(df)\n",
    "\n",
    "# Convert the DataFrame with the new column to a CSV file\n",
    "csv_file_path = 'immigration_total_count.csv'\n",
    "df.to_csv(csv_file_path, index=False)\n",
    "\n",
    "print(f\"The data has been saved to {csv_file_path}\")\n"
   ]
  }
 ],
 "metadata": {
  "kernelspec": {
   "display_name": "base",
   "language": "python",
   "name": "python3"
  },
  "language_info": {
   "codemirror_mode": {
    "name": "ipython",
    "version": 3
   },
   "file_extension": ".py",
   "mimetype": "text/x-python",
   "name": "python",
   "nbconvert_exporter": "python",
   "pygments_lexer": "ipython3",
   "version": "3.9.13"
  }
 },
 "nbformat": 4,
 "nbformat_minor": 2
}
